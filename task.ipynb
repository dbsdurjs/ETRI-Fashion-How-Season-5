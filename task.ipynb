{
 "cells": [
  {
   "cell_type": "markdown",
   "id": "55b4a5a2",
   "metadata": {},
   "source": [
    "## sub-task 2 제출 스크립트\n",
    "ETRI FASHION-HOW Season 5 task2 제출코드입니다.\n",
    "#### 주의: 반드시 본 파일을 이용하여 제출을 수행해야 하며 파일의 이름은 task.ipynb로 유지되어야 합니다.\n",
    "- 작성하신 추론용 코드(예: test.py)를 본 스크립트 내의 etri_task2_submit() 함수로 작동되게끔 삽입하는 것으로 결과 제출을 수행할 수 있습니다.\n",
    "코드는 크게 4가지 파트로 구성되며, 해당 파트의 특성을 지켜서 내용을 편집하시면 되겠습니다.\n",
    "1. 제출용 aifactory 라이브러리 설치\n",
    "2. etri_task2_submit() 함수 편집 (추론 스크립트)\n",
    "3. submit() 함수로 wrapping\n",
    "4. if __name__ == \"__main__\" 조건문을 이용한 제출 수행\n",
    "\n",
    "※ 가능하면 제출시에는 포함되어 있는 train data를 폴더에서 제외하고 제출하시는 편이 좋습니다.\n",
    "- 파일 크기 감소 → 업로드 시간 감소 → 전체 추론 수행 시간 감소"
   ]
  },
  {
   "cell_type": "markdown",
   "id": "59a3ab06",
   "metadata": {},
   "source": [
    "### 1. 제출용 aifactory 라이브러리 설치\n",
    "#### 결과 전송에 필요하므로 아래와 같이 aifactory 라이브러리가 반드시 최신버전으로 설치될 수 있게끔 합니다"
   ]
  },
  {
   "cell_type": "code",
   "execution_count": 1,
   "id": "d7f3f0fa",
   "metadata": {
    "scrolled": true
   },
   "outputs": [
    {
     "name": "stdout",
     "output_type": "stream",
     "text": [
      "Requirement already satisfied: aifactory in /home/vcl/anaconda3/envs/etri4/lib/python3.10/site-packages (1.9.3)\n",
      "Requirement already satisfied: pipreqs in /home/vcl/anaconda3/envs/etri4/lib/python3.10/site-packages (from aifactory) (0.5.0)\n",
      "Requirement already satisfied: ipynbname in /home/vcl/anaconda3/envs/etri4/lib/python3.10/site-packages (from aifactory) (2024.1.0.0)\n",
      "Requirement already satisfied: gdown in /home/vcl/anaconda3/envs/etri4/lib/python3.10/site-packages (from aifactory) (5.2.0)\n",
      "Requirement already satisfied: requests in /home/vcl/anaconda3/envs/etri4/lib/python3.10/site-packages (from aifactory) (2.32.3)\n",
      "Requirement already satisfied: IPython in /home/vcl/anaconda3/envs/etri4/lib/python3.10/site-packages (from aifactory) (8.12.3)\n",
      "Requirement already satisfied: beautifulsoup4 in /home/vcl/anaconda3/envs/etri4/lib/python3.10/site-packages (from gdown->aifactory) (4.12.3)\n",
      "Requirement already satisfied: filelock in /home/vcl/anaconda3/envs/etri4/lib/python3.10/site-packages (from gdown->aifactory) (3.13.1)\n",
      "Requirement already satisfied: tqdm in /home/vcl/anaconda3/envs/etri4/lib/python3.10/site-packages (from gdown->aifactory) (4.66.5)\n",
      "Requirement already satisfied: ipykernel in /home/vcl/anaconda3/envs/etri4/lib/python3.10/site-packages (from ipynbname->aifactory) (6.29.5)\n",
      "Requirement already satisfied: backcall in /home/vcl/anaconda3/envs/etri4/lib/python3.10/site-packages (from IPython->aifactory) (0.2.0)\n",
      "Requirement already satisfied: decorator in /home/vcl/anaconda3/envs/etri4/lib/python3.10/site-packages (from IPython->aifactory) (5.1.1)\n",
      "Requirement already satisfied: jedi>=0.16 in /home/vcl/anaconda3/envs/etri4/lib/python3.10/site-packages (from IPython->aifactory) (0.19.1)\n",
      "Requirement already satisfied: matplotlib-inline in /home/vcl/anaconda3/envs/etri4/lib/python3.10/site-packages (from IPython->aifactory) (0.1.7)\n",
      "Requirement already satisfied: pickleshare in /home/vcl/anaconda3/envs/etri4/lib/python3.10/site-packages (from IPython->aifactory) (0.7.5)\n",
      "Requirement already satisfied: prompt-toolkit!=3.0.37,<3.1.0,>=3.0.30 in /home/vcl/anaconda3/envs/etri4/lib/python3.10/site-packages (from IPython->aifactory) (3.0.47)\n",
      "Requirement already satisfied: pygments>=2.4.0 in /home/vcl/anaconda3/envs/etri4/lib/python3.10/site-packages (from IPython->aifactory) (2.18.0)\n",
      "Requirement already satisfied: stack-data in /home/vcl/anaconda3/envs/etri4/lib/python3.10/site-packages (from IPython->aifactory) (0.6.2)\n",
      "Requirement already satisfied: traitlets>=5 in /home/vcl/anaconda3/envs/etri4/lib/python3.10/site-packages (from IPython->aifactory) (5.14.3)\n",
      "Requirement already satisfied: pexpect>4.3 in /home/vcl/anaconda3/envs/etri4/lib/python3.10/site-packages (from IPython->aifactory) (4.9.0)\n",
      "Requirement already satisfied: docopt==0.6.2 in /home/vcl/anaconda3/envs/etri4/lib/python3.10/site-packages (from pipreqs->aifactory) (0.6.2)\n",
      "Requirement already satisfied: nbconvert<8.0.0,>=7.11.0 in /home/vcl/anaconda3/envs/etri4/lib/python3.10/site-packages (from pipreqs->aifactory) (7.16.4)\n",
      "Requirement already satisfied: yarg==0.1.9 in /home/vcl/anaconda3/envs/etri4/lib/python3.10/site-packages (from pipreqs->aifactory) (0.1.9)\n",
      "Requirement already satisfied: charset-normalizer<4,>=2 in /home/vcl/anaconda3/envs/etri4/lib/python3.10/site-packages (from requests->aifactory) (3.3.2)\n",
      "Requirement already satisfied: idna<4,>=2.5 in /home/vcl/anaconda3/envs/etri4/lib/python3.10/site-packages (from requests->aifactory) (3.7)\n",
      "Requirement already satisfied: urllib3<3,>=1.21.1 in /home/vcl/anaconda3/envs/etri4/lib/python3.10/site-packages (from requests->aifactory) (2.2.2)\n",
      "Requirement already satisfied: certifi>=2017.4.17 in /home/vcl/anaconda3/envs/etri4/lib/python3.10/site-packages (from requests->aifactory) (2024.7.4)\n",
      "Requirement already satisfied: parso<0.9.0,>=0.8.3 in /home/vcl/anaconda3/envs/etri4/lib/python3.10/site-packages (from jedi>=0.16->IPython->aifactory) (0.8.4)\n",
      "Requirement already satisfied: bleach!=5.0.0 in /home/vcl/anaconda3/envs/etri4/lib/python3.10/site-packages (from nbconvert<8.0.0,>=7.11.0->pipreqs->aifactory) (6.1.0)\n",
      "Requirement already satisfied: defusedxml in /home/vcl/anaconda3/envs/etri4/lib/python3.10/site-packages (from nbconvert<8.0.0,>=7.11.0->pipreqs->aifactory) (0.7.1)\n",
      "Requirement already satisfied: jinja2>=3.0 in /home/vcl/anaconda3/envs/etri4/lib/python3.10/site-packages (from nbconvert<8.0.0,>=7.11.0->pipreqs->aifactory) (3.1.3)\n",
      "Requirement already satisfied: jupyter-core>=4.7 in /home/vcl/anaconda3/envs/etri4/lib/python3.10/site-packages (from nbconvert<8.0.0,>=7.11.0->pipreqs->aifactory) (5.7.2)\n",
      "Requirement already satisfied: jupyterlab-pygments in /home/vcl/anaconda3/envs/etri4/lib/python3.10/site-packages (from nbconvert<8.0.0,>=7.11.0->pipreqs->aifactory) (0.3.0)\n",
      "Requirement already satisfied: markupsafe>=2.0 in /home/vcl/anaconda3/envs/etri4/lib/python3.10/site-packages (from nbconvert<8.0.0,>=7.11.0->pipreqs->aifactory) (2.1.5)\n",
      "Requirement already satisfied: mistune<4,>=2.0.3 in /home/vcl/anaconda3/envs/etri4/lib/python3.10/site-packages (from nbconvert<8.0.0,>=7.11.0->pipreqs->aifactory) (3.0.2)\n",
      "Requirement already satisfied: nbclient>=0.5.0 in /home/vcl/anaconda3/envs/etri4/lib/python3.10/site-packages (from nbconvert<8.0.0,>=7.11.0->pipreqs->aifactory) (0.10.0)\n",
      "Requirement already satisfied: nbformat>=5.7 in /home/vcl/anaconda3/envs/etri4/lib/python3.10/site-packages (from nbconvert<8.0.0,>=7.11.0->pipreqs->aifactory) (5.10.4)\n",
      "Requirement already satisfied: packaging in /home/vcl/anaconda3/envs/etri4/lib/python3.10/site-packages (from nbconvert<8.0.0,>=7.11.0->pipreqs->aifactory) (24.1)\n",
      "Requirement already satisfied: pandocfilters>=1.4.1 in /home/vcl/anaconda3/envs/etri4/lib/python3.10/site-packages (from nbconvert<8.0.0,>=7.11.0->pipreqs->aifactory) (1.5.1)\n",
      "Requirement already satisfied: tinycss2 in /home/vcl/anaconda3/envs/etri4/lib/python3.10/site-packages (from nbconvert<8.0.0,>=7.11.0->pipreqs->aifactory) (1.3.0)\n",
      "Requirement already satisfied: ptyprocess>=0.5 in /home/vcl/anaconda3/envs/etri4/lib/python3.10/site-packages (from pexpect>4.3->IPython->aifactory) (0.7.0)\n",
      "Requirement already satisfied: wcwidth in /home/vcl/anaconda3/envs/etri4/lib/python3.10/site-packages (from prompt-toolkit!=3.0.37,<3.1.0,>=3.0.30->IPython->aifactory) (0.2.13)\n",
      "Requirement already satisfied: soupsieve>1.2 in /home/vcl/anaconda3/envs/etri4/lib/python3.10/site-packages (from beautifulsoup4->gdown->aifactory) (2.5)\n",
      "Requirement already satisfied: comm>=0.1.1 in /home/vcl/anaconda3/envs/etri4/lib/python3.10/site-packages (from ipykernel->ipynbname->aifactory) (0.2.2)\n",
      "Requirement already satisfied: debugpy>=1.6.5 in /home/vcl/anaconda3/envs/etri4/lib/python3.10/site-packages (from ipykernel->ipynbname->aifactory) (1.6.7)\n",
      "Requirement already satisfied: jupyter-client>=6.1.12 in /home/vcl/anaconda3/envs/etri4/lib/python3.10/site-packages (from ipykernel->ipynbname->aifactory) (7.3.4)\n",
      "Requirement already satisfied: nest-asyncio in /home/vcl/anaconda3/envs/etri4/lib/python3.10/site-packages (from ipykernel->ipynbname->aifactory) (1.6.0)\n",
      "Requirement already satisfied: psutil in /home/vcl/anaconda3/envs/etri4/lib/python3.10/site-packages (from ipykernel->ipynbname->aifactory) (5.9.0)\n",
      "Requirement already satisfied: pyzmq>=24 in /home/vcl/anaconda3/envs/etri4/lib/python3.10/site-packages (from ipykernel->ipynbname->aifactory) (25.1.2)\n",
      "Requirement already satisfied: tornado>=6.1 in /home/vcl/anaconda3/envs/etri4/lib/python3.10/site-packages (from ipykernel->ipynbname->aifactory) (6.1)\n",
      "Requirement already satisfied: PySocks!=1.5.7,>=1.5.6 in /home/vcl/anaconda3/envs/etri4/lib/python3.10/site-packages (from requests[socks]->gdown->aifactory) (1.7.1)\n",
      "Requirement already satisfied: executing>=1.2.0 in /home/vcl/anaconda3/envs/etri4/lib/python3.10/site-packages (from stack-data->IPython->aifactory) (2.0.1)\n",
      "Requirement already satisfied: asttokens>=2.1.0 in /home/vcl/anaconda3/envs/etri4/lib/python3.10/site-packages (from stack-data->IPython->aifactory) (2.4.1)\n",
      "Requirement already satisfied: pure-eval in /home/vcl/anaconda3/envs/etri4/lib/python3.10/site-packages (from stack-data->IPython->aifactory) (0.2.3)\n",
      "Requirement already satisfied: six>=1.12.0 in /home/vcl/anaconda3/envs/etri4/lib/python3.10/site-packages (from asttokens>=2.1.0->stack-data->IPython->aifactory) (1.16.0)\n",
      "Requirement already satisfied: webencodings in /home/vcl/anaconda3/envs/etri4/lib/python3.10/site-packages (from bleach!=5.0.0->nbconvert<8.0.0,>=7.11.0->pipreqs->aifactory) (0.5.1)\n",
      "Requirement already satisfied: entrypoints in /home/vcl/anaconda3/envs/etri4/lib/python3.10/site-packages (from jupyter-client>=6.1.12->ipykernel->ipynbname->aifactory) (0.4)\n",
      "Requirement already satisfied: python-dateutil>=2.8.2 in /home/vcl/anaconda3/envs/etri4/lib/python3.10/site-packages (from jupyter-client>=6.1.12->ipykernel->ipynbname->aifactory) (2.9.0)\n",
      "Requirement already satisfied: platformdirs>=2.5 in /home/vcl/anaconda3/envs/etri4/lib/python3.10/site-packages (from jupyter-core>=4.7->nbconvert<8.0.0,>=7.11.0->pipreqs->aifactory) (4.2.2)\n",
      "Requirement already satisfied: fastjsonschema>=2.15 in /home/vcl/anaconda3/envs/etri4/lib/python3.10/site-packages (from nbformat>=5.7->nbconvert<8.0.0,>=7.11.0->pipreqs->aifactory) (2.20.0)\n",
      "Requirement already satisfied: jsonschema>=2.6 in /home/vcl/anaconda3/envs/etri4/lib/python3.10/site-packages (from nbformat>=5.7->nbconvert<8.0.0,>=7.11.0->pipreqs->aifactory) (4.23.0)\n",
      "Requirement already satisfied: attrs>=22.2.0 in /home/vcl/anaconda3/envs/etri4/lib/python3.10/site-packages (from jsonschema>=2.6->nbformat>=5.7->nbconvert<8.0.0,>=7.11.0->pipreqs->aifactory) (24.2.0)\n",
      "Requirement already satisfied: jsonschema-specifications>=2023.03.6 in /home/vcl/anaconda3/envs/etri4/lib/python3.10/site-packages (from jsonschema>=2.6->nbformat>=5.7->nbconvert<8.0.0,>=7.11.0->pipreqs->aifactory) (2023.12.1)\n",
      "Requirement already satisfied: referencing>=0.28.4 in /home/vcl/anaconda3/envs/etri4/lib/python3.10/site-packages (from jsonschema>=2.6->nbformat>=5.7->nbconvert<8.0.0,>=7.11.0->pipreqs->aifactory) (0.35.1)\n",
      "Requirement already satisfied: rpds-py>=0.7.1 in /home/vcl/anaconda3/envs/etri4/lib/python3.10/site-packages (from jsonschema>=2.6->nbformat>=5.7->nbconvert<8.0.0,>=7.11.0->pipreqs->aifactory) (0.20.0)\n"
     ]
    }
   ],
   "source": [
    "!pip install -U aifactory"
   ]
  },
  {
   "cell_type": "markdown",
   "id": "0292adea",
   "metadata": {
    "jp-MarkdownHeadingCollapsed": true
   },
   "source": [
    "### 2. etri_task2_submit() 함수 편집 (추론 스크립트)\n",
    "#### etri_task2_submit() 편집 시 주의사항\n",
    "\n",
    "1. 아래 etri_task2_submit() 함수 내에 전체 추론 실행 코드를 삽입하고 결과를 dataframe으로 return하게끔 구성\n",
    "   - Baseline이 아닌 다른 모델을 사용하는 경우에도 동일\n",
    "2. 함수 내에서는 import * 가 적용되지 않으므로 필요한 import object를 직접 입력\n",
    "   - 반드시 함수 내에서 import가 이루어져야 합니다.\n",
    "3. argparse 사용시 args, _ = parser.parse_known_args()로 인자 지정\n",
    "   args = parser.parse_args()는 jupyter에서 오류가 발생합니다!!!\n",
    "4. 모델 내부의 경로는 ./ 으로 경로를 지정합니다. (예: weight 파일 경로 = ./model/...)\n",
    "5. 데이터는 **/aif/Dataset/** 경로 아래에 있습니다. (코드 내용 참조) \n",
    "6. return할 결과물과 양식에 유의합니다."
   ]
  },
  {
   "cell_type": "code",
   "execution_count": 2,
   "id": "77d05b4d",
   "metadata": {},
   "outputs": [],
   "source": [
    "def etri_task2_submit():\n",
    "\n",
    "    from dataset import ETRIDataset_color\n",
    "    from networks import efficientformer_color\n",
    "\n",
    "    import pandas as pd\n",
    "    import numpy as np\n",
    "    from sklearn.metrics import confusion_matrix\n",
    "\n",
    "    import torch\n",
    "    import torch.utils.data\n",
    "    import torch.utils.data.distributed\n",
    "\n",
    "    DEVICE = torch.device('cuda' if torch.cuda.is_available() else 'cpu')\n",
    "\n",
    "    \"\"\" The main function of the test process for performance measurement. \"\"\"\n",
    "    net = efficientformer_color().to(DEVICE)\n",
    "    trained_weights = torch.load('./model/model_11.pt',map_location=DEVICE) # 자기 모델 경로를 지정합니다\n",
    "    net.load_state_dict(trained_weights)\n",
    "    net.eval()\n",
    "\n",
    "    df = pd.read_csv('/aif/Dataset/Fashion-How24_sub2_test.csv') # 제출 시 데이터 경로 준수. /aif/ 아래에 있습니다.\n",
    "    val_dataset = ETRIDataset_color(df, base_path='/aif/Dataset/test/', mode='val') # 제출 시 데이터 경로 준수. /aif/ 아래에 있습니다.\n",
    "    val_dataloader = torch.utils.data.DataLoader(val_dataset, batch_size=16, shuffle=False, num_workers=0) # 반드시 shuffle=False\n",
    "\n",
    "    pred_list = np.array([])\n",
    "\n",
    "    for j, sample in enumerate(val_dataloader):\n",
    "        for key in sample:\n",
    "            sample[key] = sample[key].to(DEVICE)\n",
    "        out = net(sample)\n",
    "\n",
    "        _, indx = out.max(1)\n",
    "        pred_list = np.concatenate([pred_list, indx.cpu()], axis=0)\n",
    "        \n",
    "    # 예측 결과를 dataframe으로 변환한 다음 함수의 결과로 return합니다.\n",
    "    # 'image_name', 'color'의 컬럼명과 image_name의 샘플 순서를 지켜주시기 바랍니다.\n",
    "    # Baseline이 아닌 다른 모델을 사용하는 경우에도 같은 형식의 dataframe으로 return할 수 있도록 합니다.\n",
    "    out = pd.DataFrame({'image_name':df['image_name'],'color':pred_list})\n",
    "   \n",
    "    return out # 반드시 추론결과를 return"
   ]
  },
  {
   "cell_type": "markdown",
   "id": "aa3a3a6b",
   "metadata": {},
   "source": [
    "### 3. submit() 함수로 wrapping\n",
    "#### 반드시 아래와 같이 submit() 이라는 함수로 위에 정의된 etri_task2_submit 함수를 wrapping해야 합니다."
   ]
  },
  {
   "cell_type": "code",
   "execution_count": 3,
   "id": "f0c87fb3",
   "metadata": {},
   "outputs": [],
   "source": [
    "def submit():\n",
    "    return etri_task2_submit"
   ]
  },
  {
   "cell_type": "markdown",
   "id": "937d1cdf",
   "metadata": {},
   "source": [
    "### 4. if name == \"main\" 조건문을 이용한 제출 수행\n",
    "#### 아래와 같이 if __name__ == \"__main__\" 구문 내에서 제출 함수가 실행되게끔 합니다.\n",
    "#### ※ task별, 참가자별로 key가 다릅니다. 잘못 입력하지 않도록 유의바랍니다.\n",
    "- key는 각팀 팀장분에게 메일로 할당된 계정을 이용하여 task별로 확인하실 수 있습니다."
   ]
  },
  {
   "cell_type": "code",
   "execution_count": 4,
   "id": "b3468396",
   "metadata": {
    "scrolled": true
   },
   "outputs": [
    {
     "name": "stdout",
     "output_type": "stream",
     "text": [
      "file : task.py\n",
      "python\n",
      "파일 전송 완료\n",
      "score = 0.8788888889(\n",
      "325.8901889324188\n"
     ]
    }
   ],
   "source": [
    "import aifactory.score as aif\n",
    "import time\n",
    "t = time.time()\n",
    "if __name__ == \"__main__\":\n",
    "    #-----------------------------------------------------#\n",
    "    aif.submit(model_name=\"etri-task2_test\",               # 본인의 모델명 입력(버전 관리에 용이하게끔 편의에 맞게 지정합니다)\n",
    "               key=\"5024d7d1-807b-4c1c-903b-fd250bd38098\",                                  # 본인의 task key 입력\n",
    "               func=submit                            # 3.에서 wrapping한 submit function\n",
    "               )\n",
    "    #-----------------------------------------------------#\n",
    "    print(time.time() - t)"
   ]
  }
 ],
 "metadata": {
  "kernelspec": {
   "display_name": "Python 3 (ipykernel)",
   "language": "python",
   "name": "python3"
  },
  "language_info": {
   "codemirror_mode": {
    "name": "ipython",
    "version": 3
   },
   "file_extension": ".py",
   "mimetype": "text/x-python",
   "name": "python",
   "nbconvert_exporter": "python",
   "pygments_lexer": "ipython3",
   "version": "3.10.0"
  }
 },
 "nbformat": 4,
 "nbformat_minor": 5
}
